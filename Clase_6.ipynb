{
  "nbformat": 4,
  "nbformat_minor": 0,
  "metadata": {
    "colab": {
      "provenance": [],
      "authorship_tag": "ABX9TyM941mCMZfJwOmHTb0xZGEJ",
      "include_colab_link": true
    },
    "kernelspec": {
      "name": "python3",
      "display_name": "Python 3"
    },
    "language_info": {
      "name": "python"
    }
  },
  "cells": [
    {
      "cell_type": "markdown",
      "metadata": {
        "id": "view-in-github",
        "colab_type": "text"
      },
      "source": [
        "<a href=\"https://colab.research.google.com/github/SaraElizabethGarciaCajero/Colab/blob/main/Clase_6.ipynb\" target=\"_parent\"><img src=\"https://colab.research.google.com/assets/colab-badge.svg\" alt=\"Open In Colab\"/></a>"
      ]
    },
    {
      "cell_type": "code",
      "execution_count": null,
      "metadata": {
        "colab": {
          "base_uri": "https://localhost:8080/"
        },
        "id": "yWA4Ba11essk",
        "outputId": "70d1599f-dc93-4b59-f506-3f58deb7d079"
      },
      "outputs": [
        {
          "output_type": "execute_result",
          "data": {
            "text/plain": [
              "0    MatemáticasHistoria\n",
              "1               Economía\n",
              "2           Programación\n",
              "3                 Inglés\n",
              "dtype: string"
            ]
          },
          "metadata": {},
          "execution_count": 6
        }
      ],
      "source": [
        "import pandas as pd\n",
        "s=pd.Series(['Matemáticas' 'Historia', 'Economía', 'Programación', 'Inglés'], dtype='string')\n",
        "s"
      ]
    },
    {
      "cell_type": "code",
      "source": [
        "sj=pd.Series({'Matemáticas': 6.0, 'Historia':7.0, 'Economía':4.5, 'Programación':8.5,'Inglés':9.6 })\n",
        "sj"
      ],
      "metadata": {
        "colab": {
          "base_uri": "https://localhost:8080/"
        },
        "id": "jYfpMSn0fBVW",
        "outputId": "44577ff9-b571-476d-d2ca-cb88f3e77f5c"
      },
      "execution_count": null,
      "outputs": [
        {
          "output_type": "execute_result",
          "data": {
            "text/plain": [
              "Matemáticas     6.0\n",
              "Historia        7.0\n",
              "Economía        4.5\n",
              "Programación    8.5\n",
              "Inglés          9.6\n",
              "dtype: float64"
            ]
          },
          "metadata": {},
          "execution_count": 13
        }
      ]
    },
    {
      "cell_type": "code",
      "source": [
        "sj.size"
      ],
      "metadata": {
        "colab": {
          "base_uri": "https://localhost:8080/"
        },
        "id": "Pi8hMIvlfp-8",
        "outputId": "2238943a-98d0-4189-851f-021c598425c3"
      },
      "execution_count": null,
      "outputs": [
        {
          "output_type": "execute_result",
          "data": {
            "text/plain": [
              "5"
            ]
          },
          "metadata": {},
          "execution_count": 14
        }
      ]
    },
    {
      "cell_type": "code",
      "source": [
        "sj.index"
      ],
      "metadata": {
        "colab": {
          "base_uri": "https://localhost:8080/"
        },
        "id": "iLwXplq9gO5s",
        "outputId": "93653370-8d17-457c-cc5a-3205dbe0737f"
      },
      "execution_count": null,
      "outputs": [
        {
          "output_type": "execute_result",
          "data": {
            "text/plain": [
              "Index(['Matemáticas', 'Historia', 'Economía', 'Programación', 'Inglés'], dtype='object')"
            ]
          },
          "metadata": {},
          "execution_count": 15
        }
      ]
    },
    {
      "cell_type": "code",
      "source": [
        "sj[1:3]"
      ],
      "metadata": {
        "colab": {
          "base_uri": "https://localhost:8080/"
        },
        "id": "Xp8r-JcAglbJ",
        "outputId": "b51fee1e-6d7a-4434-bccb-46eaf2b27d13"
      },
      "execution_count": null,
      "outputs": [
        {
          "output_type": "execute_result",
          "data": {
            "text/plain": [
              "Historia    7.0\n",
              "Economía    4.5\n",
              "dtype: float64"
            ]
          },
          "metadata": {},
          "execution_count": 16
        }
      ]
    },
    {
      "cell_type": "code",
      "source": [
        "sj.count"
      ],
      "metadata": {
        "colab": {
          "base_uri": "https://localhost:8080/"
        },
        "id": "iDcKcBOlgrNw",
        "outputId": "9654de06-160d-4b4d-968d-c6c48b273d54"
      },
      "execution_count": null,
      "outputs": [
        {
          "output_type": "execute_result",
          "data": {
            "text/plain": [
              "<bound method Series.count of Matemáticas     6.0\n",
              "Historia        7.0\n",
              "Economía        4.5\n",
              "Programación    8.5\n",
              "Inglés          9.6\n",
              "dtype: float64>"
            ]
          },
          "metadata": {},
          "execution_count": 17
        }
      ]
    },
    {
      "cell_type": "code",
      "source": [
        "sj.sum"
      ],
      "metadata": {
        "colab": {
          "base_uri": "https://localhost:8080/"
        },
        "id": "3JJiCEQ1g7ke",
        "outputId": "99e9b05f-9fff-4de4-9ce6-0b0c06858799"
      },
      "execution_count": null,
      "outputs": [
        {
          "output_type": "execute_result",
          "data": {
            "text/plain": [
              "<bound method NDFrame._add_numeric_operations.<locals>.sum of Matemáticas     6.0\n",
              "Historia        7.0\n",
              "Economía        4.5\n",
              "Programación    8.5\n",
              "Inglés          9.6\n",
              "dtype: float64>"
            ]
          },
          "metadata": {},
          "execution_count": 18
        }
      ]
    },
    {
      "cell_type": "code",
      "source": [
        "sj.cumsum"
      ],
      "metadata": {
        "colab": {
          "base_uri": "https://localhost:8080/"
        },
        "id": "gFpfjmHAhD9T",
        "outputId": "f641ffd8-207b-49a6-bbc5-6acbc2c9e948"
      },
      "execution_count": null,
      "outputs": [
        {
          "output_type": "execute_result",
          "data": {
            "text/plain": [
              "<bound method NDFrame._add_numeric_operations.<locals>.cumsum of Matemáticas     6.0\n",
              "Historia        7.0\n",
              "Economía        4.5\n",
              "Programación    8.5\n",
              "Inglés          9.6\n",
              "dtype: float64>"
            ]
          },
          "metadata": {},
          "execution_count": 19
        }
      ]
    },
    {
      "cell_type": "code",
      "source": [
        "sj.describe()#Serie de información sobre la serie, promedio, etc."
      ],
      "metadata": {
        "colab": {
          "base_uri": "https://localhost:8080/"
        },
        "id": "XHlBBREIhHRs",
        "outputId": "60b09334-5ad8-46d6-896e-81b734aeda69"
      },
      "execution_count": null,
      "outputs": [
        {
          "output_type": "execute_result",
          "data": {
            "text/plain": [
              "count    5.000000\n",
              "mean     7.120000\n",
              "std      2.011716\n",
              "min      4.500000\n",
              "25%      6.000000\n",
              "50%      7.000000\n",
              "75%      8.500000\n",
              "max      9.600000\n",
              "dtype: float64"
            ]
          },
          "metadata": {},
          "execution_count": 20
        }
      ]
    },
    {
      "cell_type": "code",
      "source": [
        "edades={}\n",
        "edades[\"Freya\"]=20\n",
        "edades[\"Sara\"]=19\n",
        "edades[\"Evans\"]=20\n",
        "edades[\"Pau\"]=20\n",
        "edades[\"Alejandro\"]=19\n",
        "edades[\"Daniela\"]=21\n",
        "edades[\"Ana Pau\"]=20\n",
        "edades[\"Lazaro\"]=19\n",
        "edades[\"Mateo\"]=20"
      ],
      "metadata": {
        "id": "qBuVTCxghKIp"
      },
      "execution_count": null,
      "outputs": []
    },
    {
      "cell_type": "code",
      "source": [
        "serie=pd.Series(edades)\n",
        "print(serie)"
      ],
      "metadata": {
        "colab": {
          "base_uri": "https://localhost:8080/"
        },
        "id": "W2RDRNeZiLbq",
        "outputId": "a3c1445b-8676-45ba-fda7-740f243764e5"
      },
      "execution_count": null,
      "outputs": [
        {
          "output_type": "stream",
          "name": "stdout",
          "text": [
            "Freya        20\n",
            "Sara         19\n",
            "Evans        20\n",
            "Pau          20\n",
            "Alejandro    19\n",
            "Daniela      21\n",
            "Ana Pau      20\n",
            "Lazaro       19\n",
            "Mateo        20\n",
            "dtype: int64\n"
          ]
        }
      ]
    },
    {
      "cell_type": "code",
      "source": [
        "edades"
      ],
      "metadata": {
        "colab": {
          "base_uri": "https://localhost:8080/"
        },
        "id": "Vgxyw-oEiT4w",
        "outputId": "731bbbdc-ec6d-44a1-ef46-c5b7a1ee79aa"
      },
      "execution_count": null,
      "outputs": [
        {
          "output_type": "execute_result",
          "data": {
            "text/plain": [
              "{'Freya': 20,\n",
              " 'Sara': 19,\n",
              " 'Evans': 20,\n",
              " 'Pau': 20,\n",
              " 'Alejandro': 19,\n",
              " 'Daniela': 21,\n",
              " 'Ana Pau': 20,\n",
              " 'Lazaro': 19,\n",
              " 'Mateo': 20}"
            ]
          },
          "metadata": {},
          "execution_count": 44
        }
      ]
    },
    {
      "cell_type": "code",
      "source": [
        "serie.mean()"
      ],
      "metadata": {
        "colab": {
          "base_uri": "https://localhost:8080/"
        },
        "id": "6Bzd_rEjik_v",
        "outputId": "d6136721-cf46-4860-edf6-0bba27cf9b07"
      },
      "execution_count": null,
      "outputs": [
        {
          "output_type": "execute_result",
          "data": {
            "text/plain": [
              "19.77777777777778"
            ]
          },
          "metadata": {},
          "execution_count": 45
        }
      ]
    },
    {
      "cell_type": "code",
      "source": [
        "serie.std()"
      ],
      "metadata": {
        "colab": {
          "base_uri": "https://localhost:8080/"
        },
        "id": "DqfiJwY3jAqH",
        "outputId": "2dfced4c-ebd6-474d-db0f-9d0b786a951b"
      },
      "execution_count": null,
      "outputs": [
        {
          "output_type": "execute_result",
          "data": {
            "text/plain": [
              "0.6666666666666666"
            ]
          },
          "metadata": {},
          "execution_count": 46
        }
      ]
    },
    {
      "cell_type": "code",
      "source": [
        "serie.describe()"
      ],
      "metadata": {
        "colab": {
          "base_uri": "https://localhost:8080/"
        },
        "id": "bEjdN7GbjFUC",
        "outputId": "fb074887-07ed-40ec-b1fd-aaff6fd9f767"
      },
      "execution_count": null,
      "outputs": [
        {
          "output_type": "execute_result",
          "data": {
            "text/plain": [
              "count     9.000000\n",
              "mean     19.777778\n",
              "std       0.666667\n",
              "min      19.000000\n",
              "25%      19.000000\n",
              "50%      20.000000\n",
              "75%      20.000000\n",
              "max      21.000000\n",
              "dtype: float64"
            ]
          },
          "metadata": {},
          "execution_count": 47
        }
      ]
    },
    {
      "cell_type": "code",
      "source": [
        "serie.count()"
      ],
      "metadata": {
        "colab": {
          "base_uri": "https://localhost:8080/"
        },
        "id": "W3yq3M9SjI_n",
        "outputId": "157a4d85-15a6-481b-a1c5-96e9d51cf4ab"
      },
      "execution_count": null,
      "outputs": [
        {
          "output_type": "execute_result",
          "data": {
            "text/plain": [
              "9"
            ]
          },
          "metadata": {},
          "execution_count": 48
        }
      ]
    },
    {
      "cell_type": "code",
      "source": [
        "serie.sum()"
      ],
      "metadata": {
        "colab": {
          "base_uri": "https://localhost:8080/"
        },
        "id": "Aw0bMUM-jNL-",
        "outputId": "6ab45c5d-c65f-457b-e9d8-e94408f54a09"
      },
      "execution_count": null,
      "outputs": [
        {
          "output_type": "execute_result",
          "data": {
            "text/plain": [
              "178"
            ]
          },
          "metadata": {},
          "execution_count": 49
        }
      ]
    },
    {
      "cell_type": "code",
      "source": [
        "serie.cumsum()"
      ],
      "metadata": {
        "colab": {
          "base_uri": "https://localhost:8080/"
        },
        "id": "i5IVdVp_jRqy",
        "outputId": "ebcbc2ca-b945-4733-c55c-952328a7b776"
      },
      "execution_count": null,
      "outputs": [
        {
          "output_type": "execute_result",
          "data": {
            "text/plain": [
              "Freya         20\n",
              "Sara          39\n",
              "Evans         59\n",
              "Pau           79\n",
              "Alejandro     98\n",
              "Daniela      119\n",
              "Ana Pau      139\n",
              "Lazaro       158\n",
              "Mateo        178\n",
              "dtype: int64"
            ]
          },
          "metadata": {},
          "execution_count": 50
        }
      ]
    },
    {
      "cell_type": "code",
      "source": [
        "serie.value_counts()"
      ],
      "metadata": {
        "colab": {
          "base_uri": "https://localhost:8080/"
        },
        "id": "I0rgXgWejWs4",
        "outputId": "b0e6d0a3-1e8d-4e00-b396-22d17fc42a14"
      },
      "execution_count": null,
      "outputs": [
        {
          "output_type": "execute_result",
          "data": {
            "text/plain": [
              "20    5\n",
              "19    3\n",
              "21    1\n",
              "dtype: int64"
            ]
          },
          "metadata": {},
          "execution_count": 51
        }
      ]
    },
    {
      "cell_type": "code",
      "source": [
        "serie.value_counts(normalize=True)"
      ],
      "metadata": {
        "colab": {
          "base_uri": "https://localhost:8080/"
        },
        "id": "GsIySMRPjdy8",
        "outputId": "50f4b674-30f0-4d21-cddf-0433b25ac09b"
      },
      "execution_count": null,
      "outputs": [
        {
          "output_type": "execute_result",
          "data": {
            "text/plain": [
              "20    0.555556\n",
              "19    0.333333\n",
              "21    0.111111\n",
              "dtype: float64"
            ]
          },
          "metadata": {},
          "execution_count": 52
        }
      ]
    },
    {
      "cell_type": "code",
      "source": [
        "serie.hist()"
      ],
      "metadata": {
        "colab": {
          "base_uri": "https://localhost:8080/",
          "height": 282
        },
        "id": "OmqXuRlljtPe",
        "outputId": "1657fd80-6fab-467b-81a9-34dd53002ad9"
      },
      "execution_count": null,
      "outputs": [
        {
          "output_type": "execute_result",
          "data": {
            "text/plain": [
              "<matplotlib.axes._subplots.AxesSubplot at 0x7fc3ddae9d90>"
            ]
          },
          "metadata": {},
          "execution_count": 53
        },
        {
          "output_type": "display_data",
          "data": {
            "text/plain": [
              "<Figure size 432x288 with 1 Axes>"
            ],
            "image/png": "[encoded data removed]"
          },
          "metadata": {
            "needs_background": "light"
          }
        }
      ]
    },
    {
      "cell_type": "code",
      "source": [
        "a=serie\n",
        "b=serie\n",
        "c=a+b\n",
        "c"
      ],
      "metadata": {
        "colab": {
          "base_uri": "https://localhost:8080/"
        },
        "id": "RrcEoSfXkg1L",
        "outputId": "5afb4bd1-da63-4d98-af3d-9414d32b3eee"
      },
      "execution_count": null,
      "outputs": [
        {
          "output_type": "execute_result",
          "data": {
            "text/plain": [
              "Freya        40\n",
              "Sara         38\n",
              "Evans        40\n",
              "Pau          40\n",
              "Alejandro    38\n",
              "Daniela      42\n",
              "Ana Pau      40\n",
              "Lazaro       38\n",
              "Mateo        40\n",
              "dtype: int64"
            ]
          },
          "metadata": {},
          "execution_count": 55
        }
      ]
    },
    {
      "cell_type": "code",
      "source": [
        "a=serie\n",
        "b=serie\n",
        "c=a*b\n",
        "c"
      ],
      "metadata": {
        "colab": {
          "base_uri": "https://localhost:8080/"
        },
        "id": "gFvkWCvXkl92",
        "outputId": "e9c9b35d-6f52-4051-c185-bcd31fe5e9b2"
      },
      "execution_count": null,
      "outputs": [
        {
          "output_type": "execute_result",
          "data": {
            "text/plain": [
              "Freya        400\n",
              "Sara         361\n",
              "Evans        400\n",
              "Pau          400\n",
              "Alejandro    361\n",
              "Daniela      441\n",
              "Ana Pau      400\n",
              "Lazaro       361\n",
              "Mateo        400\n",
              "dtype: int64"
            ]
          },
          "metadata": {},
          "execution_count": 56
        }
      ]
    },
    {
      "cell_type": "code",
      "source": [
        "print(serie[serie<serie.mean()])"
      ],
      "metadata": {
        "colab": {
          "base_uri": "https://localhost:8080/"
        },
        "id": "s-CA7h6xkqyG",
        "outputId": "cbcaaf07-8bbd-44f5-8d27-1bc63b8c3541"
      },
      "execution_count": null,
      "outputs": [
        {
          "output_type": "stream",
          "name": "stdout",
          "text": [
            "Sara         19\n",
            "Alejandro    19\n",
            "Lazaro       19\n",
            "dtype: int64\n"
          ]
        }
      ]
    },
    {
      "cell_type": "code",
      "source": [
        "print(serie.sort_values())"
      ],
      "metadata": {
        "colab": {
          "base_uri": "https://localhost:8080/"
        },
        "id": "KIOGPeOOlUug",
        "outputId": "9b06b2a7-db6e-4c58-b0c0-748c7f1b6d57"
      },
      "execution_count": null,
      "outputs": [
        {
          "output_type": "stream",
          "name": "stdout",
          "text": [
            "Sara         19\n",
            "Alejandro    19\n",
            "Lazaro       19\n",
            "Freya        20\n",
            "Evans        20\n",
            "Pau          20\n",
            "Ana Pau      20\n",
            "Mateo        20\n",
            "Daniela      21\n",
            "dtype: int64\n"
          ]
        }
      ]
    },
    {
      "cell_type": "code",
      "source": [
        "import numpy as np\n",
        "serie1=pd.Series(['a','b', None,'c', np.NaN, 'd'])\n",
        "serie1"
      ],
      "metadata": {
        "colab": {
          "base_uri": "https://localhost:8080/"
        },
        "id": "BuFAHAqZlcbU",
        "outputId": "574da275-7315-4426-c92b-42df779b599e"
      },
      "execution_count": null,
      "outputs": [
        {
          "output_type": "execute_result",
          "data": {
            "text/plain": [
              "0       a\n",
              "1       b\n",
              "2    None\n",
              "3       c\n",
              "4     NaN\n",
              "5       d\n",
              "dtype: object"
            ]
          },
          "metadata": {},
          "execution_count": 73
        }
      ]
    },
    {
      "cell_type": "markdown",
      "source": [],
      "metadata": {
        "id": "ZGIRuYBGnf9B"
      }
    },
    {
      "cell_type": "code",
      "source": [
        "serie1.dropna()"
      ],
      "metadata": {
        "colab": {
          "base_uri": "https://localhost:8080/"
        },
        "id": "577EvVZSl_Sa",
        "outputId": "41ed1011-267d-4ff8-e6ed-58a59cee9c6f"
      },
      "execution_count": null,
      "outputs": [
        {
          "output_type": "execute_result",
          "data": {
            "text/plain": [
              "0    a\n",
              "1    b\n",
              "3    c\n",
              "5    d\n",
              "dtype: object"
            ]
          },
          "metadata": {},
          "execution_count": 74
        }
      ]
    },
    {
      "cell_type": "code",
      "source": [
        "#INDEX: Nombre que tienen las filas\n",
        "#COLUMNS: Nombre para las columnas \n",
        "vals=np.random.randn(3,4)\n",
        "vals"
      ],
      "metadata": {
        "colab": {
          "base_uri": "https://localhost:8080/"
        },
        "id": "LQ-39LtDmRAg",
        "outputId": "b0d8ebb9-2896-4780-de72-49fa5696c0fc"
      },
      "execution_count": null,
      "outputs": [
        {
          "output_type": "execute_result",
          "data": {
            "text/plain": [
              "array([[-1.07498952, -0.18804705, -1.39256097,  1.00234427],\n",
              "       [ 1.26468425, -0.27787487,  0.88413515,  0.16539237],\n",
              "       [ 0.5482332 ,  0.6620339 , -0.64948377,  0.00392702]])"
            ]
          },
          "metadata": {},
          "execution_count": 78
        }
      ]
    },
    {
      "cell_type": "code",
      "source": [
        "cols=['a', 'b', 'c', 'd']"
      ],
      "metadata": {
        "id": "jp7uWwW2nmxF"
      },
      "execution_count": null,
      "outputs": []
    },
    {
      "cell_type": "code",
      "source": [
        "df=pd.DataFrame(vals,columns=cols)\n",
        "df"
      ],
      "metadata": {
        "colab": {
          "base_uri": "https://localhost:8080/",
          "height": 143
        },
        "id": "ENTkztNJn6S7",
        "outputId": "68e54360-6f1b-48b1-f3f3-74d4b05f308e"
      },
      "execution_count": null,
      "outputs": [
        {
          "output_type": "execute_result",
          "data": {
            "text/plain": [
              "          a         b         c         d\n",
              "0 -1.074990 -0.188047 -1.392561  1.002344\n",
              "1  1.264684 -0.277875  0.884135  0.165392\n",
              "2  0.548233  0.662034 -0.649484  0.003927"
            ],
            "text/html": [
              "\n",
              "  <div id=\"df-7f740822-cac1-44c5-b8dc-8f8c959a253e\">\n",
              "    <div class=\"colab-df-container\">\n",
              "      <div>\n",
              "<style scoped>\n",
              "    .dataframe tbody tr th:only-of-type {\n",
              "        vertical-align: middle;\n",
              "    }\n",
              "\n",
              "    .dataframe tbody tr th {\n",
              "        vertical-align: top;\n",
              "    }\n",
              "\n",
              "    .dataframe thead th {\n",
              "        text-align: right;\n",
              "    }\n",
              "</style>\n",
              "<table border=\"1\" class=\"dataframe\">\n",
              "  <thead>\n",
              "    <tr style=\"text-align: right;\">\n",
              "      <th></th>\n",
              "      <th>a</th>\n",
              "      <th>b</th>\n",
              "      <th>c</th>\n",
              "      <th>d</th>\n",
              "    </tr>\n",
              "  </thead>\n",
              "  <tbody>\n",
              "    <tr>\n",
              "      <th>0</th>\n",
              "      <td>-1.074990</td>\n",
              "      <td>-0.188047</td>\n",
              "      <td>-1.392561</td>\n",
              "      <td>1.002344</td>\n",
              "    </tr>\n",
              "    <tr>\n",
              "      <th>1</th>\n",
              "      <td>1.264684</td>\n",
              "      <td>-0.277875</td>\n",
              "      <td>0.884135</td>\n",
              "      <td>0.165392</td>\n",
              "    </tr>\n",
              "    <tr>\n",
              "      <th>2</th>\n",
              "      <td>0.548233</td>\n",
              "      <td>0.662034</td>\n",
              "      <td>-0.649484</td>\n",
              "      <td>0.003927</td>\n",
              "    </tr>\n",
              "  </tbody>\n",
              "</table>\n",
              "</div>\n",
              "      <button class=\"colab-df-convert\" onclick=\"convertToInteractive('df-7f740822-cac1-44c5-b8dc-8f8c959a253e')\"\n",
              "              title=\"Convert this dataframe to an interactive table.\"\n",
              "              style=\"display:none;\">\n",
              "        \n",
              "  <svg xmlns=\"http://www.w3.org/2000/svg\" height=\"24px\"viewBox=\"0 0 24 24\"\n",
              "       width=\"24px\">\n",
              "    <path d=\"M0 0h24v24H0V0z\" fill=\"none\"/>\n",
              "    <path d=\"M18.56 5.44l.94 2.06.94-2.06 2.06-.94-2.06-.94-.94-2.06-.94 2.06-2.06.94zm-11 1L8.5 8.5l.94-2.06 2.06-.94-2.06-.94L8.5 2.5l-.94 2.06-2.06.94zm10 10l.94 2.06.94-2.06 2.06-.94-2.06-.94-.94-2.06-.94 2.06-2.06.94z\"/><path d=\"M17.41 7.96l-1.37-1.37c-.4-.4-.92-.59-1.43-.59-.52 0-1.04.2-1.43.59L10.3 9.45l-7.72 7.72c-.78.78-.78 2.05 0 2.83L4 21.41c.39.39.9.59 1.41.59.51 0 1.02-.2 1.41-.59l7.78-7.78 2.81-2.81c.8-.78.8-2.07 0-2.86zM5.41 20L4 18.59l7.72-7.72 1.47 1.35L5.41 20z\"/>\n",
              "  </svg>\n",
              "      </button>\n",
              "      \n",
              "  <style>\n",
              "    .colab-df-container {\n",
              "      display:flex;\n",
              "      flex-wrap:wrap;\n",
              "      gap: 12px;\n",
              "    }\n",
              "\n",
              "    .colab-df-convert {\n",
              "      background-color: #E8F0FE;\n",
              "      border: none;\n",
              "      border-radius: 50%;\n",
              "      cursor: pointer;\n",
              "      display: none;\n",
              "      fill: #1967D2;\n",
              "      height: 32px;\n",
              "      padding: 0 0 0 0;\n",
              "      width: 32px;\n",
              "    }\n",
              "\n",
              "    .colab-df-convert:hover {\n",
              "      background-color: #E2EBFA;\n",
              "      box-shadow: 0px 1px 2px rgba(60, 64, 67, 0.3), 0px 1px 3px 1px rgba(60, 64, 67, 0.15);\n",
              "      fill: #174EA6;\n",
              "    }\n",
              "\n",
              "    [theme=dark] .colab-df-convert {\n",
              "      background-color: #3B4455;\n",
              "      fill: #D2E3FC;\n",
              "    }\n",
              "\n",
              "    [theme=dark] .colab-df-convert:hover {\n",
              "      background-color: #434B5C;\n",
              "      box-shadow: 0px 1px 3px 1px rgba(0, 0, 0, 0.15);\n",
              "      filter: drop-shadow(0px 1px 2px rgba(0, 0, 0, 0.3));\n",
              "      fill: #FFFFFF;\n",
              "    }\n",
              "  </style>\n",
              "\n",
              "      <script>\n",
              "        const buttonEl =\n",
              "          document.querySelector('#df-7f740822-cac1-44c5-b8dc-8f8c959a253e button.colab-df-convert');\n",
              "        buttonEl.style.display =\n",
              "          google.colab.kernel.accessAllowed ? 'block' : 'none';\n",
              "\n",
              "        async function convertToInteractive(key) {\n",
              "          const element = document.querySelector('#df-7f740822-cac1-44c5-b8dc-8f8c959a253e');\n",
              "          const dataTable =\n",
              "            await google.colab.kernel.invokeFunction('convertToInteractive',\n",
              "                                                     [key], {});\n",
              "          if (!dataTable) return;\n",
              "\n",
              "          const docLinkHtml = 'Like what you see? Visit the ' +\n",
              "            '<a target=\"_blank\" href=https://colab.research.google.com/notebooks/data_table.ipynb>data table notebook</a>'\n",
              "            + ' to learn more about interactive tables.';\n",
              "          element.innerHTML = '';\n",
              "          dataTable['output_type'] = 'display_data';\n",
              "          await google.colab.output.renderOutput(dataTable, element);\n",
              "          const docLink = document.createElement('div');\n",
              "          docLink.innerHTML = docLinkHtml;\n",
              "          element.appendChild(docLink);\n",
              "        }\n",
              "      </script>\n",
              "    </div>\n",
              "  </div>\n",
              "  "
            ]
          },
          "metadata": {},
          "execution_count": 81
        }
      ]
    },
    {
      "cell_type": "code",
      "source": [
        "df.info()"
      ],
      "metadata": {
        "colab": {
          "base_uri": "https://localhost:8080/"
        },
        "id": "DxEJVdpMoCDL",
        "outputId": "1791e923-b4df-4841-ead4-2c1f297d0cd9"
      },
      "execution_count": null,
      "outputs": [
        {
          "output_type": "stream",
          "name": "stdout",
          "text": [
            "<class 'pandas.core.frame.DataFrame'>\n",
            "RangeIndex: 3 entries, 0 to 2\n",
            "Data columns (total 4 columns):\n",
            " #   Column  Non-Null Count  Dtype  \n",
            "---  ------  --------------  -----  \n",
            " 0   a       3 non-null      float64\n",
            " 1   b       3 non-null      float64\n",
            " 2   c       3 non-null      float64\n",
            " 3   d       3 non-null      float64\n",
            "dtypes: float64(4)\n",
            "memory usage: 224.0 bytes\n"
          ]
        }
      ]
    },
    {
      "cell_type": "code",
      "source": [
        "df.shape"
      ],
      "metadata": {
        "colab": {
          "base_uri": "https://localhost:8080/"
        },
        "id": "MQuiFE-SqFUm",
        "outputId": "fd0aa3ae-c288-4fc5-eff6-c1dfac56c1d8"
      },
      "execution_count": null,
      "outputs": [
        {
          "output_type": "execute_result",
          "data": {
            "text/plain": [
              "(3, 4)"
            ]
          },
          "metadata": {},
          "execution_count": 83
        }
      ]
    },
    {
      "cell_type": "code",
      "source": [
        "df.size"
      ],
      "metadata": {
        "colab": {
          "base_uri": "https://localhost:8080/"
        },
        "id": "PdEi5_4LqMlw",
        "outputId": "ad0f2252-d257-41a7-bdad-a06722a96c32"
      },
      "execution_count": null,
      "outputs": [
        {
          "output_type": "execute_result",
          "data": {
            "text/plain": [
              "12"
            ]
          },
          "metadata": {},
          "execution_count": 84
        }
      ]
    },
    {
      "cell_type": "code",
      "source": [
        "df.columns"
      ],
      "metadata": {
        "colab": {
          "base_uri": "https://localhost:8080/"
        },
        "id": "t8mNetlYqOFq",
        "outputId": "f780e9f9-73df-4726-91e9-a7cad494fb8b"
      },
      "execution_count": null,
      "outputs": [
        {
          "output_type": "execute_result",
          "data": {
            "text/plain": [
              "Index(['a', 'b', 'c', 'd'], dtype='object')"
            ]
          },
          "metadata": {},
          "execution_count": 85
        }
      ]
    },
    {
      "cell_type": "code",
      "source": [
        "df.index"
      ],
      "metadata": {
        "colab": {
          "base_uri": "https://localhost:8080/"
        },
        "id": "7V8Y6R84qQS5",
        "outputId": "4e4b55ac-3900-46e3-e909-a14b2ae73455"
      },
      "execution_count": null,
      "outputs": [
        {
          "output_type": "execute_result",
          "data": {
            "text/plain": [
              "RangeIndex(start=0, stop=3, step=1)"
            ]
          },
          "metadata": {},
          "execution_count": 86
        }
      ]
    },
    {
      "cell_type": "code",
      "source": [
        "df.dtypes"
      ],
      "metadata": {
        "colab": {
          "base_uri": "https://localhost:8080/"
        },
        "id": "GI8FxG88qRn3",
        "outputId": "0e0e635e-de25-4ede-8bcc-5cf8ffe5bfff"
      },
      "execution_count": null,
      "outputs": [
        {
          "output_type": "execute_result",
          "data": {
            "text/plain": [
              "a    float64\n",
              "b    float64\n",
              "c    float64\n",
              "d    float64\n",
              "dtype: object"
            ]
          },
          "metadata": {},
          "execution_count": 88
        }
      ]
    },
    {
      "cell_type": "code",
      "source": [
        "df.head(2)"
      ],
      "metadata": {
        "colab": {
          "base_uri": "https://localhost:8080/",
          "height": 112
        },
        "id": "vYKRTUaFqTI6",
        "outputId": "ebc07c79-c067-45ff-f8fe-54e5fe7f3f9e"
      },
      "execution_count": null,
      "outputs": [
        {
          "output_type": "execute_result",
          "data": {
            "text/plain": [
              "          a         b         c         d\n",
              "0 -1.074990 -0.188047 -1.392561  1.002344\n",
              "1  1.264684 -0.277875  0.884135  0.165392"
            ],
            "text/html": [
              "\n",
              "  <div id=\"df-1ec734a1-2185-44fb-b1b2-a6b0e75ed1ea\">\n",
              "    <div class=\"colab-df-container\">\n",
              "      <div>\n",
              "<style scoped>\n",
              "    .dataframe tbody tr th:only-of-type {\n",
              "        vertical-align: middle;\n",
              "    }\n",
              "\n",
              "    .dataframe tbody tr th {\n",
              "        vertical-align: top;\n",
              "    }\n",
              "\n",
              "    .dataframe thead th {\n",
              "        text-align: right;\n",
              "    }\n",
              "</style>\n",
              "<table border=\"1\" class=\"dataframe\">\n",
              "  <thead>\n",
              "    <tr style=\"text-align: right;\">\n",
              "      <th></th>\n",
              "      <th>a</th>\n",
              "      <th>b</th>\n",
              "      <th>c</th>\n",
              "      <th>d</th>\n",
              "    </tr>\n",
              "  </thead>\n",
              "  <tbody>\n",
              "    <tr>\n",
              "      <th>0</th>\n",
              "      <td>-1.074990</td>\n",
              "      <td>-0.188047</td>\n",
              "      <td>-1.392561</td>\n",
              "      <td>1.002344</td>\n",
              "    </tr>\n",
              "    <tr>\n",
              "      <th>1</th>\n",
              "      <td>1.264684</td>\n",
              "      <td>-0.277875</td>\n",
              "      <td>0.884135</td>\n",
              "      <td>0.165392</td>\n",
              "    </tr>\n",
              "  </tbody>\n",
              "</table>\n",
              "</div>\n",
              "      <button class=\"colab-df-convert\" onclick=\"convertToInteractive('df-1ec734a1-2185-44fb-b1b2-a6b0e75ed1ea')\"\n",
              "              title=\"Convert this dataframe to an interactive table.\"\n",
              "              style=\"display:none;\">\n",
              "        \n",
              "  <svg xmlns=\"http://www.w3.org/2000/svg\" height=\"24px\"viewBox=\"0 0 24 24\"\n",
              "       width=\"24px\">\n",
              "    <path d=\"M0 0h24v24H0V0z\" fill=\"none\"/>\n",
              "    <path d=\"M18.56 5.44l.94 2.06.94-2.06 2.06-.94-2.06-.94-.94-2.06-.94 2.06-2.06.94zm-11 1L8.5 8.5l.94-2.06 2.06-.94-2.06-.94L8.5 2.5l-.94 2.06-2.06.94zm10 10l.94 2.06.94-2.06 2.06-.94-2.06-.94-.94-2.06-.94 2.06-2.06.94z\"/><path d=\"M17.41 7.96l-1.37-1.37c-.4-.4-.92-.59-1.43-.59-.52 0-1.04.2-1.43.59L10.3 9.45l-7.72 7.72c-.78.78-.78 2.05 0 2.83L4 21.41c.39.39.9.59 1.41.59.51 0 1.02-.2 1.41-.59l7.78-7.78 2.81-2.81c.8-.78.8-2.07 0-2.86zM5.41 20L4 18.59l7.72-7.72 1.47 1.35L5.41 20z\"/>\n",
              "  </svg>\n",
              "      </button>\n",
              "      \n",
              "  <style>\n",
              "    .colab-df-container {\n",
              "      display:flex;\n",
              "      flex-wrap:wrap;\n",
              "      gap: 12px;\n",
              "    }\n",
              "\n",
              "    .colab-df-convert {\n",
              "      background-color: #E8F0FE;\n",
              "      border: none;\n",
              "      border-radius: 50%;\n",
              "      cursor: pointer;\n",
              "      display: none;\n",
              "      fill: #1967D2;\n",
              "      height: 32px;\n",
              "      padding: 0 0 0 0;\n",
              "      width: 32px;\n",
              "    }\n",
              "\n",
              "    .colab-df-convert:hover {\n",
              "      background-color: #E2EBFA;\n",
              "      box-shadow: 0px 1px 2px rgba(60, 64, 67, 0.3), 0px 1px 3px 1px rgba(60, 64, 67, 0.15);\n",
              "      fill: #174EA6;\n",
              "    }\n",
              "\n",
              "    [theme=dark] .colab-df-convert {\n",
              "      background-color: #3B4455;\n",
              "      fill: #D2E3FC;\n",
              "    }\n",
              "\n",
              "    [theme=dark] .colab-df-convert:hover {\n",
              "      background-color: #434B5C;\n",
              "      box-shadow: 0px 1px 3px 1px rgba(0, 0, 0, 0.15);\n",
              "      filter: drop-shadow(0px 1px 2px rgba(0, 0, 0, 0.3));\n",
              "      fill: #FFFFFF;\n",
              "    }\n",
              "  </style>\n",
              "\n",
              "      <script>\n",
              "        const buttonEl =\n",
              "          document.querySelector('#df-1ec734a1-2185-44fb-b1b2-a6b0e75ed1ea button.colab-df-convert');\n",
              "        buttonEl.style.display =\n",
              "          google.colab.kernel.accessAllowed ? 'block' : 'none';\n",
              "\n",
              "        async function convertToInteractive(key) {\n",
              "          const element = document.querySelector('#df-1ec734a1-2185-44fb-b1b2-a6b0e75ed1ea');\n",
              "          const dataTable =\n",
              "            await google.colab.kernel.invokeFunction('convertToInteractive',\n",
              "                                                     [key], {});\n",
              "          if (!dataTable) return;\n",
              "\n",
              "          const docLinkHtml = 'Like what you see? Visit the ' +\n",
              "            '<a target=\"_blank\" href=https://colab.research.google.com/notebooks/data_table.ipynb>data table notebook</a>'\n",
              "            + ' to learn more about interactive tables.';\n",
              "          element.innerHTML = '';\n",
              "          dataTable['output_type'] = 'display_data';\n",
              "          await google.colab.output.renderOutput(dataTable, element);\n",
              "          const docLink = document.createElement('div');\n",
              "          docLink.innerHTML = docLinkHtml;\n",
              "          element.appendChild(docLink);\n",
              "        }\n",
              "      </script>\n",
              "    </div>\n",
              "  </div>\n",
              "  "
            ]
          },
          "metadata": {},
          "execution_count": 90
        }
      ]
    },
    {
      "cell_type": "code",
      "source": [
        "df.tail(2)"
      ],
      "metadata": {
        "colab": {
          "base_uri": "https://localhost:8080/",
          "height": 112
        },
        "id": "4WS2GGg8qYHJ",
        "outputId": "340131f9-0abd-4fd0-815e-80c3dc3ecbd2"
      },
      "execution_count": null,
      "outputs": [
        {
          "output_type": "execute_result",
          "data": {
            "text/plain": [
              "          a         b         c         d\n",
              "1  1.264684 -0.277875  0.884135  0.165392\n",
              "2  0.548233  0.662034 -0.649484  0.003927"
            ],
            "text/html": [
              "\n",
              "  <div id=\"df-a2a9db95-ff37-4916-a7af-1c9823021118\">\n",
              "    <div class=\"colab-df-container\">\n",
              "      <div>\n",
              "<style scoped>\n",
              "    .dataframe tbody tr th:only-of-type {\n",
              "        vertical-align: middle;\n",
              "    }\n",
              "\n",
              "    .dataframe tbody tr th {\n",
              "        vertical-align: top;\n",
              "    }\n",
              "\n",
              "    .dataframe thead th {\n",
              "        text-align: right;\n",
              "    }\n",
              "</style>\n",
              "<table border=\"1\" class=\"dataframe\">\n",
              "  <thead>\n",
              "    <tr style=\"text-align: right;\">\n",
              "      <th></th>\n",
              "      <th>a</th>\n",
              "      <th>b</th>\n",
              "      <th>c</th>\n",
              "      <th>d</th>\n",
              "    </tr>\n",
              "  </thead>\n",
              "  <tbody>\n",
              "    <tr>\n",
              "      <th>1</th>\n",
              "      <td>1.264684</td>\n",
              "      <td>-0.277875</td>\n",
              "      <td>0.884135</td>\n",
              "      <td>0.165392</td>\n",
              "    </tr>\n",
              "    <tr>\n",
              "      <th>2</th>\n",
              "      <td>0.548233</td>\n",
              "      <td>0.662034</td>\n",
              "      <td>-0.649484</td>\n",
              "      <td>0.003927</td>\n",
              "    </tr>\n",
              "  </tbody>\n",
              "</table>\n",
              "</div>\n",
              "      <button class=\"colab-df-convert\" onclick=\"convertToInteractive('df-a2a9db95-ff37-4916-a7af-1c9823021118')\"\n",
              "              title=\"Convert this dataframe to an interactive table.\"\n",
              "              style=\"display:none;\">\n",
              "        \n",
              "  <svg xmlns=\"http://www.w3.org/2000/svg\" height=\"24px\"viewBox=\"0 0 24 24\"\n",
              "       width=\"24px\">\n",
              "    <path d=\"M0 0h24v24H0V0z\" fill=\"none\"/>\n",
              "    <path d=\"M18.56 5.44l.94 2.06.94-2.06 2.06-.94-2.06-.94-.94-2.06-.94 2.06-2.06.94zm-11 1L8.5 8.5l.94-2.06 2.06-.94-2.06-.94L8.5 2.5l-.94 2.06-2.06.94zm10 10l.94 2.06.94-2.06 2.06-.94-2.06-.94-.94-2.06-.94 2.06-2.06.94z\"/><path d=\"M17.41 7.96l-1.37-1.37c-.4-.4-.92-.59-1.43-.59-.52 0-1.04.2-1.43.59L10.3 9.45l-7.72 7.72c-.78.78-.78 2.05 0 2.83L4 21.41c.39.39.9.59 1.41.59.51 0 1.02-.2 1.41-.59l7.78-7.78 2.81-2.81c.8-.78.8-2.07 0-2.86zM5.41 20L4 18.59l7.72-7.72 1.47 1.35L5.41 20z\"/>\n",
              "  </svg>\n",
              "      </button>\n",
              "      \n",
              "  <style>\n",
              "    .colab-df-container {\n",
              "      display:flex;\n",
              "      flex-wrap:wrap;\n",
              "      gap: 12px;\n",
              "    }\n",
              "\n",
              "    .colab-df-convert {\n",
              "      background-color: #E8F0FE;\n",
              "      border: none;\n",
              "      border-radius: 50%;\n",
              "      cursor: pointer;\n",
              "      display: none;\n",
              "      fill: #1967D2;\n",
              "      height: 32px;\n",
              "      padding: 0 0 0 0;\n",
              "      width: 32px;\n",
              "    }\n",
              "\n",
              "    .colab-df-convert:hover {\n",
              "      background-color: #E2EBFA;\n",
              "      box-shadow: 0px 1px 2px rgba(60, 64, 67, 0.3), 0px 1px 3px 1px rgba(60, 64, 67, 0.15);\n",
              "      fill: #174EA6;\n",
              "    }\n",
              "\n",
              "    [theme=dark] .colab-df-convert {\n",
              "      background-color: #3B4455;\n",
              "      fill: #D2E3FC;\n",
              "    }\n",
              "\n",
              "    [theme=dark] .colab-df-convert:hover {\n",
              "      background-color: #434B5C;\n",
              "      box-shadow: 0px 1px 3px 1px rgba(0, 0, 0, 0.15);\n",
              "      filter: drop-shadow(0px 1px 2px rgba(0, 0, 0, 0.3));\n",
              "      fill: #FFFFFF;\n",
              "    }\n",
              "  </style>\n",
              "\n",
              "      <script>\n",
              "        const buttonEl =\n",
              "          document.querySelector('#df-a2a9db95-ff37-4916-a7af-1c9823021118 button.colab-df-convert');\n",
              "        buttonEl.style.display =\n",
              "          google.colab.kernel.accessAllowed ? 'block' : 'none';\n",
              "\n",
              "        async function convertToInteractive(key) {\n",
              "          const element = document.querySelector('#df-a2a9db95-ff37-4916-a7af-1c9823021118');\n",
              "          const dataTable =\n",
              "            await google.colab.kernel.invokeFunction('convertToInteractive',\n",
              "                                                     [key], {});\n",
              "          if (!dataTable) return;\n",
              "\n",
              "          const docLinkHtml = 'Like what you see? Visit the ' +\n",
              "            '<a target=\"_blank\" href=https://colab.research.google.com/notebooks/data_table.ipynb>data table notebook</a>'\n",
              "            + ' to learn more about interactive tables.';\n",
              "          element.innerHTML = '';\n",
              "          dataTable['output_type'] = 'display_data';\n",
              "          await google.colab.output.renderOutput(dataTable, element);\n",
              "          const docLink = document.createElement('div');\n",
              "          docLink.innerHTML = docLinkHtml;\n",
              "          element.appendChild(docLink);\n",
              "        }\n",
              "      </script>\n",
              "    </div>\n",
              "  </div>\n",
              "  "
            ]
          },
          "metadata": {},
          "execution_count": 91
        }
      ]
    },
    {
      "cell_type": "code",
      "source": [
        "datf=['x','y','z','a']\n",
        "cl=['r','s','t','u']\n",
        "\n",
        "print(df.datf(columns=cl, index))"
      ],
      "metadata": {
        "id": "Dlx_pqW-qr2_"
      },
      "execution_count": null,
      "outputs": []
    },
    {
      "cell_type": "code",
      "source": [
        "df=pd.read_csv('https://raw.githubusercontent.com/asalber/manual-python/master/datos/colesterol.csv')\n",
        "print(df)"
      ],
      "metadata": {
        "colab": {
          "base_uri": "https://localhost:8080/"
        },
        "id": "iXLWyTVyuaD0",
        "outputId": "5bc242ec-298b-495b-c938-5782eef9c7f5"
      },
      "execution_count": null,
      "outputs": [
        {
          "output_type": "stream",
          "name": "stdout",
          "text": [
            "                             nombre  edad sexo   peso  altura  colesterol\n",
            "0      José Luis Martínez Izquierdo    18    H   85.0    1.79       182.0\n",
            "1                    Rosa Díaz Díaz    32    M   65.0    1.73       232.0\n",
            "2             Javier García Sánchez    24    H    NaN    1.81       191.0\n",
            "3               Carmen López Pinzón    35    M   65.0    1.70       200.0\n",
            "4              Marisa López Collado    46    M   51.0    1.58       148.0\n",
            "5                 Antonio Ruiz Cruz    68    H   66.0    1.74       249.0\n",
            "6           Antonio Fernández Ocaña    51    H   62.0    1.72       276.0\n",
            "7             Pilar Martín González    22    M   60.0    1.66         NaN\n",
            "8              Pedro Gálvez Tenorio    35    H   90.0    1.94       241.0\n",
            "9           Santiago Reillo Manzano    46    H   75.0    1.85       280.0\n",
            "10            Macarena Álvarez Luna    53    M   55.0    1.62       262.0\n",
            "11       José María de la Guía Sanz    58    H   78.0    1.87       198.0\n",
            "12  Miguel Angel Cuadrado Gutiérrez    27    H  109.0    1.98       210.0\n",
            "13            Carolina Rubio Moreno    20    M   61.0    1.77       194.0\n"
          ]
        }
      ]
    },
    {
      "cell_type": "code",
      "source": [
        "print(df.loc[2,'colesterol'])"
      ],
      "metadata": {
        "colab": {
          "base_uri": "https://localhost:8080/"
        },
        "id": "H4MSxSiturPe",
        "outputId": "b1615b7c-378c-4906-9f9b-a6a2659a87d3"
      },
      "execution_count": null,
      "outputs": [
        {
          "output_type": "stream",
          "name": "stdout",
          "text": [
            "191.0\n"
          ]
        }
      ]
    },
    {
      "cell_type": "code",
      "source": [
        "print(df.loc[2],['colesterol'])"
      ],
      "metadata": {
        "colab": {
          "base_uri": "https://localhost:8080/"
        },
        "id": "DCwhLDHivG05",
        "outputId": "b3031846-7cbf-47f7-c96a-58ee5a33ecb9"
      },
      "execution_count": null,
      "outputs": [
        {
          "output_type": "stream",
          "name": "stdout",
          "text": [
            "nombre        Javier García Sánchez\n",
            "edad                             24\n",
            "sexo                              H\n",
            "peso                            NaN\n",
            "altura                         1.81\n",
            "colesterol                    191.0\n",
            "Name: 2, dtype: object ['colesterol']\n"
          ]
        }
      ]
    },
    {
      "cell_type": "code",
      "source": [],
      "metadata": {
        "id": "crioGysSvgzx"
      },
      "execution_count": null,
      "outputs": []
    },
    {
      "cell_type": "code",
      "source": [
        "print(df.loc[[2,3],['colesterol','nombre']])"
      ],
      "metadata": {
        "colab": {
          "base_uri": "https://localhost:8080/"
        },
        "outputId": "84dec8e1-39d5-41da-e2f1-e593b1493310",
        "id": "_CG4vkhJv0bC"
      },
      "execution_count": null,
      "outputs": [
        {
          "output_type": "stream",
          "name": "stdout",
          "text": [
            "   colesterol                 nombre\n",
            "2       191.0  Javier García Sánchez\n",
            "3       200.0    Carmen López Pinzón\n"
          ]
        }
      ]
    },
    {
      "cell_type": "code",
      "source": [
        "df['diabetes']=pd.Series([False, False, True, False, True])\n",
        "df"
      ],
      "metadata": {
        "colab": {
          "base_uri": "https://localhost:8080/",
          "height": 488
        },
        "id": "6N2wM_ihv9-6",
        "outputId": "2c1584e3-ab8d-4a29-9cf0-382d525654a0"
      },
      "execution_count": null,
      "outputs": [
        {
          "output_type": "execute_result",
          "data": {
            "text/plain": [
              "                             nombre  edad sexo   peso  altura  colesterol  \\\n",
              "0      José Luis Martínez Izquierdo    18    H   85.0    1.79       182.0   \n",
              "1                    Rosa Díaz Díaz    32    M   65.0    1.73       232.0   \n",
              "2             Javier García Sánchez    24    H    NaN    1.81       191.0   \n",
              "3               Carmen López Pinzón    35    M   65.0    1.70       200.0   \n",
              "4              Marisa López Collado    46    M   51.0    1.58       148.0   \n",
              "5                 Antonio Ruiz Cruz    68    H   66.0    1.74       249.0   \n",
              "6           Antonio Fernández Ocaña    51    H   62.0    1.72       276.0   \n",
              "7             Pilar Martín González    22    M   60.0    1.66         NaN   \n",
              "8              Pedro Gálvez Tenorio    35    H   90.0    1.94       241.0   \n",
              "9           Santiago Reillo Manzano    46    H   75.0    1.85       280.0   \n",
              "10            Macarena Álvarez Luna    53    M   55.0    1.62       262.0   \n",
              "11       José María de la Guía Sanz    58    H   78.0    1.87       198.0   \n",
              "12  Miguel Angel Cuadrado Gutiérrez    27    H  109.0    1.98       210.0   \n",
              "13            Carolina Rubio Moreno    20    M   61.0    1.77       194.0   \n",
              "\n",
              "   diabetes  \n",
              "0     False  \n",
              "1     False  \n",
              "2      True  \n",
              "3     False  \n",
              "4      True  \n",
              "5       NaN  \n",
              "6       NaN  \n",
              "7       NaN  \n",
              "8       NaN  \n",
              "9       NaN  \n",
              "10      NaN  \n",
              "11      NaN  \n",
              "12      NaN  \n",
              "13      NaN  "
            ],
            "text/html": [
              "\n",
              "  <div id=\"df-c414bd62-6dbe-4a76-bcd0-4cde11b84b04\">\n",
              "    <div class=\"colab-df-container\">\n",
              "      <div>\n",
              "<style scoped>\n",
              "    .dataframe tbody tr th:only-of-type {\n",
              "        vertical-align: middle;\n",
              "    }\n",
              "\n",
              "    .dataframe tbody tr th {\n",
              "        vertical-align: top;\n",
              "    }\n",
              "\n",
              "    .dataframe thead th {\n",
              "        text-align: right;\n",
              "    }\n",
              "</style>\n",
              "<table border=\"1\" class=\"dataframe\">\n",
              "  <thead>\n",
              "    <tr style=\"text-align: right;\">\n",
              "      <th></th>\n",
              "      <th>nombre</th>\n",
              "      <th>edad</th>\n",
              "      <th>sexo</th>\n",
              "      <th>peso</th>\n",
              "      <th>altura</th>\n",
              "      <th>colesterol</th>\n",
              "      <th>diabetes</th>\n",
              "    </tr>\n",
              "  </thead>\n",
              "  <tbody>\n",
              "    <tr>\n",
              "      <th>0</th>\n",
              "      <td>José Luis Martínez Izquierdo</td>\n",
              "      <td>18</td>\n",
              "      <td>H</td>\n",
              "      <td>85.0</td>\n",
              "      <td>1.79</td>\n",
              "      <td>182.0</td>\n",
              "      <td>False</td>\n",
              "    </tr>\n",
              "    <tr>\n",
              "      <th>1</th>\n",
              "      <td>Rosa Díaz Díaz</td>\n",
              "      <td>32</td>\n",
              "      <td>M</td>\n",
              "      <td>65.0</td>\n",
              "      <td>1.73</td>\n",
              "      <td>232.0</td>\n",
              "      <td>False</td>\n",
              "    </tr>\n",
              "    <tr>\n",
              "      <th>2</th>\n",
              "      <td>Javier García Sánchez</td>\n",
              "      <td>24</td>\n",
              "      <td>H</td>\n",
              "      <td>NaN</td>\n",
              "      <td>1.81</td>\n",
              "      <td>191.0</td>\n",
              "      <td>True</td>\n",
              "    </tr>\n",
              "    <tr>\n",
              "      <th>3</th>\n",
              "      <td>Carmen López Pinzón</td>\n",
              "      <td>35</td>\n",
              "      <td>M</td>\n",
              "      <td>65.0</td>\n",
              "      <td>1.70</td>\n",
              "      <td>200.0</td>\n",
              "      <td>False</td>\n",
              "    </tr>\n",
              "    <tr>\n",
              "      <th>4</th>\n",
              "      <td>Marisa López Collado</td>\n",
              "      <td>46</td>\n",
              "      <td>M</td>\n",
              "      <td>51.0</td>\n",
              "      <td>1.58</td>\n",
              "      <td>148.0</td>\n",
              "      <td>True</td>\n",
              "    </tr>\n",
              "    <tr>\n",
              "      <th>5</th>\n",
              "      <td>Antonio Ruiz Cruz</td>\n",
              "      <td>68</td>\n",
              "      <td>H</td>\n",
              "      <td>66.0</td>\n",
              "      <td>1.74</td>\n",
              "      <td>249.0</td>\n",
              "      <td>NaN</td>\n",
              "    </tr>\n",
              "    <tr>\n",
              "      <th>6</th>\n",
              "      <td>Antonio Fernández Ocaña</td>\n",
              "      <td>51</td>\n",
              "      <td>H</td>\n",
              "      <td>62.0</td>\n",
              "      <td>1.72</td>\n",
              "      <td>276.0</td>\n",
              "      <td>NaN</td>\n",
              "    </tr>\n",
              "    <tr>\n",
              "      <th>7</th>\n",
              "      <td>Pilar Martín González</td>\n",
              "      <td>22</td>\n",
              "      <td>M</td>\n",
              "      <td>60.0</td>\n",
              "      <td>1.66</td>\n",
              "      <td>NaN</td>\n",
              "      <td>NaN</td>\n",
              "    </tr>\n",
              "    <tr>\n",
              "      <th>8</th>\n",
              "      <td>Pedro Gálvez Tenorio</td>\n",
              "      <td>35</td>\n",
              "      <td>H</td>\n",
              "      <td>90.0</td>\n",
              "      <td>1.94</td>\n",
              "      <td>241.0</td>\n",
              "      <td>NaN</td>\n",
              "    </tr>\n",
              "    <tr>\n",
              "      <th>9</th>\n",
              "      <td>Santiago Reillo Manzano</td>\n",
              "      <td>46</td>\n",
              "      <td>H</td>\n",
              "      <td>75.0</td>\n",
              "      <td>1.85</td>\n",
              "      <td>280.0</td>\n",
              "      <td>NaN</td>\n",
              "    </tr>\n",
              "    <tr>\n",
              "      <th>10</th>\n",
              "      <td>Macarena Álvarez Luna</td>\n",
              "      <td>53</td>\n",
              "      <td>M</td>\n",
              "      <td>55.0</td>\n",
              "      <td>1.62</td>\n",
              "      <td>262.0</td>\n",
              "      <td>NaN</td>\n",
              "    </tr>\n",
              "    <tr>\n",
              "      <th>11</th>\n",
              "      <td>José María de la Guía Sanz</td>\n",
              "      <td>58</td>\n",
              "      <td>H</td>\n",
              "      <td>78.0</td>\n",
              "      <td>1.87</td>\n",
              "      <td>198.0</td>\n",
              "      <td>NaN</td>\n",
              "    </tr>\n",
              "    <tr>\n",
              "      <th>12</th>\n",
              "      <td>Miguel Angel Cuadrado Gutiérrez</td>\n",
              "      <td>27</td>\n",
              "      <td>H</td>\n",
              "      <td>109.0</td>\n",
              "      <td>1.98</td>\n",
              "      <td>210.0</td>\n",
              "      <td>NaN</td>\n",
              "    </tr>\n",
              "    <tr>\n",
              "      <th>13</th>\n",
              "      <td>Carolina Rubio Moreno</td>\n",
              "      <td>20</td>\n",
              "      <td>M</td>\n",
              "      <td>61.0</td>\n",
              "      <td>1.77</td>\n",
              "      <td>194.0</td>\n",
              "      <td>NaN</td>\n",
              "    </tr>\n",
              "  </tbody>\n",
              "</table>\n",
              "</div>\n",
              "      <button class=\"colab-df-convert\" onclick=\"convertToInteractive('df-c414bd62-6dbe-4a76-bcd0-4cde11b84b04')\"\n",
              "              title=\"Convert this dataframe to an interactive table.\"\n",
              "              style=\"display:none;\">\n",
              "        \n",
              "  <svg xmlns=\"http://www.w3.org/2000/svg\" height=\"24px\"viewBox=\"0 0 24 24\"\n",
              "       width=\"24px\">\n",
              "    <path d=\"M0 0h24v24H0V0z\" fill=\"none\"/>\n",
              "    <path d=\"M18.56 5.44l.94 2.06.94-2.06 2.06-.94-2.06-.94-.94-2.06-.94 2.06-2.06.94zm-11 1L8.5 8.5l.94-2.06 2.06-.94-2.06-.94L8.5 2.5l-.94 2.06-2.06.94zm10 10l.94 2.06.94-2.06 2.06-.94-2.06-.94-.94-2.06-.94 2.06-2.06.94z\"/><path d=\"M17.41 7.96l-1.37-1.37c-.4-.4-.92-.59-1.43-.59-.52 0-1.04.2-1.43.59L10.3 9.45l-7.72 7.72c-.78.78-.78 2.05 0 2.83L4 21.41c.39.39.9.59 1.41.59.51 0 1.02-.2 1.41-.59l7.78-7.78 2.81-2.81c.8-.78.8-2.07 0-2.86zM5.41 20L4 18.59l7.72-7.72 1.47 1.35L5.41 20z\"/>\n",
              "  </svg>\n",
              "      </button>\n",
              "      \n",
              "  <style>\n",
              "    .colab-df-container {\n",
              "      display:flex;\n",
              "      flex-wrap:wrap;\n",
              "      gap: 12px;\n",
              "    }\n",
              "\n",
              "    .colab-df-convert {\n",
              "      background-color: #E8F0FE;\n",
              "      border: none;\n",
              "      border-radius: 50%;\n",
              "      cursor: pointer;\n",
              "      display: none;\n",
              "      fill: #1967D2;\n",
              "      height: 32px;\n",
              "      padding: 0 0 0 0;\n",
              "      width: 32px;\n",
              "    }\n",
              "\n",
              "    .colab-df-convert:hover {\n",
              "      background-color: #E2EBFA;\n",
              "      box-shadow: 0px 1px 2px rgba(60, 64, 67, 0.3), 0px 1px 3px 1px rgba(60, 64, 67, 0.15);\n",
              "      fill: #174EA6;\n",
              "    }\n",
              "\n",
              "    [theme=dark] .colab-df-convert {\n",
              "      background-color: #3B4455;\n",
              "      fill: #D2E3FC;\n",
              "    }\n",
              "\n",
              "    [theme=dark] .colab-df-convert:hover {\n",
              "      background-color: #434B5C;\n",
              "      box-shadow: 0px 1px 3px 1px rgba(0, 0, 0, 0.15);\n",
              "      filter: drop-shadow(0px 1px 2px rgba(0, 0, 0, 0.3));\n",
              "      fill: #FFFFFF;\n",
              "    }\n",
              "  </style>\n",
              "\n",
              "      <script>\n",
              "        const buttonEl =\n",
              "          document.querySelector('#df-c414bd62-6dbe-4a76-bcd0-4cde11b84b04 button.colab-df-convert');\n",
              "        buttonEl.style.display =\n",
              "          google.colab.kernel.accessAllowed ? 'block' : 'none';\n",
              "\n",
              "        async function convertToInteractive(key) {\n",
              "          const element = document.querySelector('#df-c414bd62-6dbe-4a76-bcd0-4cde11b84b04');\n",
              "          const dataTable =\n",
              "            await google.colab.kernel.invokeFunction('convertToInteractive',\n",
              "                                                     [key], {});\n",
              "          if (!dataTable) return;\n",
              "\n",
              "          const docLinkHtml = 'Like what you see? Visit the ' +\n",
              "            '<a target=\"_blank\" href=https://colab.research.google.com/notebooks/data_table.ipynb>data table notebook</a>'\n",
              "            + ' to learn more about interactive tables.';\n",
              "          element.innerHTML = '';\n",
              "          dataTable['output_type'] = 'display_data';\n",
              "          await google.colab.output.renderOutput(dataTable, element);\n",
              "          const docLink = document.createElement('div');\n",
              "          docLink.innerHTML = docLinkHtml;\n",
              "          element.appendChild(docLink);\n",
              "        }\n",
              "      </script>\n",
              "    </div>\n",
              "  </div>\n",
              "  "
            ]
          },
          "metadata": {},
          "execution_count": 103
        }
      ]
    },
    {
      "cell_type": "code",
      "source": [
        "df.info()"
      ],
      "metadata": {
        "colab": {
          "base_uri": "https://localhost:8080/"
        },
        "id": "1GWa9Yc1xe8q",
        "outputId": "37354832-d648-4ea4-bf25-1a9f0c7035d9"
      },
      "execution_count": null,
      "outputs": [
        {
          "output_type": "stream",
          "name": "stdout",
          "text": [
            "<class 'pandas.core.frame.DataFrame'>\n",
            "RangeIndex: 14 entries, 0 to 13\n",
            "Data columns (total 7 columns):\n",
            " #   Column      Non-Null Count  Dtype  \n",
            "---  ------      --------------  -----  \n",
            " 0   nombre      14 non-null     object \n",
            " 1   edad        14 non-null     int64  \n",
            " 2   sexo        14 non-null     object \n",
            " 3   peso        13 non-null     float64\n",
            " 4   altura      14 non-null     float64\n",
            " 5   colesterol  13 non-null     float64\n",
            " 6   diabetes    5 non-null      object \n",
            "dtypes: float64(3), int64(1), object(3)\n",
            "memory usage: 912.0+ bytes\n"
          ]
        }
      ]
    },
    {
      "cell_type": "code",
      "source": [
        "df['sexo']=='M'"
      ],
      "metadata": {
        "colab": {
          "base_uri": "https://localhost:8080/"
        },
        "id": "ByKiALAvxg02",
        "outputId": "8af175be-66ff-4a86-dfe8-4e0c7f17cdb2"
      },
      "execution_count": null,
      "outputs": [
        {
          "output_type": "execute_result",
          "data": {
            "text/plain": [
              "0     False\n",
              "1      True\n",
              "2     False\n",
              "3      True\n",
              "4      True\n",
              "5     False\n",
              "6     False\n",
              "7      True\n",
              "8     False\n",
              "9     False\n",
              "10     True\n",
              "11    False\n",
              "12    False\n",
              "13     True\n",
              "Name: sexo, dtype: bool"
            ]
          },
          "metadata": {},
          "execution_count": 106
        }
      ]
    },
    {
      "cell_type": "code",
      "source": [
        "df[df['sexo']=='M']"
      ],
      "metadata": {
        "colab": {
          "base_uri": "https://localhost:8080/",
          "height": 237
        },
        "id": "Yu21NX7Xxnck",
        "outputId": "01f6bf7d-b912-4e13-8846-e6f4ec5edd05"
      },
      "execution_count": null,
      "outputs": [
        {
          "output_type": "execute_result",
          "data": {
            "text/plain": [
              "                   nombre  edad sexo  peso  altura  colesterol diabetes\n",
              "1          Rosa Díaz Díaz    32    M  65.0    1.73       232.0    False\n",
              "3     Carmen López Pinzón    35    M  65.0    1.70       200.0    False\n",
              "4    Marisa López Collado    46    M  51.0    1.58       148.0     True\n",
              "7   Pilar Martín González    22    M  60.0    1.66         NaN      NaN\n",
              "10  Macarena Álvarez Luna    53    M  55.0    1.62       262.0      NaN\n",
              "13  Carolina Rubio Moreno    20    M  61.0    1.77       194.0      NaN"
            ],
            "text/html": [
              "\n",
              "  <div id=\"df-2e8e1e91-9d3c-4ec2-8137-b57137347dc0\">\n",
              "    <div class=\"colab-df-container\">\n",
              "      <div>\n",
              "<style scoped>\n",
              "    .dataframe tbody tr th:only-of-type {\n",
              "        vertical-align: middle;\n",
              "    }\n",
              "\n",
              "    .dataframe tbody tr th {\n",
              "        vertical-align: top;\n",
              "    }\n",
              "\n",
              "    .dataframe thead th {\n",
              "        text-align: right;\n",
              "    }\n",
              "</style>\n",
              "<table border=\"1\" class=\"dataframe\">\n",
              "  <thead>\n",
              "    <tr style=\"text-align: right;\">\n",
              "      <th></th>\n",
              "      <th>nombre</th>\n",
              "      <th>edad</th>\n",
              "      <th>sexo</th>\n",
              "      <th>peso</th>\n",
              "      <th>altura</th>\n",
              "      <th>colesterol</th>\n",
              "      <th>diabetes</th>\n",
              "    </tr>\n",
              "  </thead>\n",
              "  <tbody>\n",
              "    <tr>\n",
              "      <th>1</th>\n",
              "      <td>Rosa Díaz Díaz</td>\n",
              "      <td>32</td>\n",
              "      <td>M</td>\n",
              "      <td>65.0</td>\n",
              "      <td>1.73</td>\n",
              "      <td>232.0</td>\n",
              "      <td>False</td>\n",
              "    </tr>\n",
              "    <tr>\n",
              "      <th>3</th>\n",
              "      <td>Carmen López Pinzón</td>\n",
              "      <td>35</td>\n",
              "      <td>M</td>\n",
              "      <td>65.0</td>\n",
              "      <td>1.70</td>\n",
              "      <td>200.0</td>\n",
              "      <td>False</td>\n",
              "    </tr>\n",
              "    <tr>\n",
              "      <th>4</th>\n",
              "      <td>Marisa López Collado</td>\n",
              "      <td>46</td>\n",
              "      <td>M</td>\n",
              "      <td>51.0</td>\n",
              "      <td>1.58</td>\n",
              "      <td>148.0</td>\n",
              "      <td>True</td>\n",
              "    </tr>\n",
              "    <tr>\n",
              "      <th>7</th>\n",
              "      <td>Pilar Martín González</td>\n",
              "      <td>22</td>\n",
              "      <td>M</td>\n",
              "      <td>60.0</td>\n",
              "      <td>1.66</td>\n",
              "      <td>NaN</td>\n",
              "      <td>NaN</td>\n",
              "    </tr>\n",
              "    <tr>\n",
              "      <th>10</th>\n",
              "      <td>Macarena Álvarez Luna</td>\n",
              "      <td>53</td>\n",
              "      <td>M</td>\n",
              "      <td>55.0</td>\n",
              "      <td>1.62</td>\n",
              "      <td>262.0</td>\n",
              "      <td>NaN</td>\n",
              "    </tr>\n",
              "    <tr>\n",
              "      <th>13</th>\n",
              "      <td>Carolina Rubio Moreno</td>\n",
              "      <td>20</td>\n",
              "      <td>M</td>\n",
              "      <td>61.0</td>\n",
              "      <td>1.77</td>\n",
              "      <td>194.0</td>\n",
              "      <td>NaN</td>\n",
              "    </tr>\n",
              "  </tbody>\n",
              "</table>\n",
              "</div>\n",
              "      <button class=\"colab-df-convert\" onclick=\"convertToInteractive('df-2e8e1e91-9d3c-4ec2-8137-b57137347dc0')\"\n",
              "              title=\"Convert this dataframe to an interactive table.\"\n",
              "              style=\"display:none;\">\n",
              "        \n",
              "  <svg xmlns=\"http://www.w3.org/2000/svg\" height=\"24px\"viewBox=\"0 0 24 24\"\n",
              "       width=\"24px\">\n",
              "    <path d=\"M0 0h24v24H0V0z\" fill=\"none\"/>\n",
              "    <path d=\"M18.56 5.44l.94 2.06.94-2.06 2.06-.94-2.06-.94-.94-2.06-.94 2.06-2.06.94zm-11 1L8.5 8.5l.94-2.06 2.06-.94-2.06-.94L8.5 2.5l-.94 2.06-2.06.94zm10 10l.94 2.06.94-2.06 2.06-.94-2.06-.94-.94-2.06-.94 2.06-2.06.94z\"/><path d=\"M17.41 7.96l-1.37-1.37c-.4-.4-.92-.59-1.43-.59-.52 0-1.04.2-1.43.59L10.3 9.45l-7.72 7.72c-.78.78-.78 2.05 0 2.83L4 21.41c.39.39.9.59 1.41.59.51 0 1.02-.2 1.41-.59l7.78-7.78 2.81-2.81c.8-.78.8-2.07 0-2.86zM5.41 20L4 18.59l7.72-7.72 1.47 1.35L5.41 20z\"/>\n",
              "  </svg>\n",
              "      </button>\n",
              "      \n",
              "  <style>\n",
              "    .colab-df-container {\n",
              "      display:flex;\n",
              "      flex-wrap:wrap;\n",
              "      gap: 12px;\n",
              "    }\n",
              "\n",
              "    .colab-df-convert {\n",
              "      background-color: #E8F0FE;\n",
              "      border: none;\n",
              "      border-radius: 50%;\n",
              "      cursor: pointer;\n",
              "      display: none;\n",
              "      fill: #1967D2;\n",
              "      height: 32px;\n",
              "      padding: 0 0 0 0;\n",
              "      width: 32px;\n",
              "    }\n",
              "\n",
              "    .colab-df-convert:hover {\n",
              "      background-color: #E2EBFA;\n",
              "      box-shadow: 0px 1px 2px rgba(60, 64, 67, 0.3), 0px 1px 3px 1px rgba(60, 64, 67, 0.15);\n",
              "      fill: #174EA6;\n",
              "    }\n",
              "\n",
              "    [theme=dark] .colab-df-convert {\n",
              "      background-color: #3B4455;\n",
              "      fill: #D2E3FC;\n",
              "    }\n",
              "\n",
              "    [theme=dark] .colab-df-convert:hover {\n",
              "      background-color: #434B5C;\n",
              "      box-shadow: 0px 1px 3px 1px rgba(0, 0, 0, 0.15);\n",
              "      filter: drop-shadow(0px 1px 2px rgba(0, 0, 0, 0.3));\n",
              "      fill: #FFFFFF;\n",
              "    }\n",
              "  </style>\n",
              "\n",
              "      <script>\n",
              "        const buttonEl =\n",
              "          document.querySelector('#df-2e8e1e91-9d3c-4ec2-8137-b57137347dc0 button.colab-df-convert');\n",
              "        buttonEl.style.display =\n",
              "          google.colab.kernel.accessAllowed ? 'block' : 'none';\n",
              "\n",
              "        async function convertToInteractive(key) {\n",
              "          const element = document.querySelector('#df-2e8e1e91-9d3c-4ec2-8137-b57137347dc0');\n",
              "          const dataTable =\n",
              "            await google.colab.kernel.invokeFunction('convertToInteractive',\n",
              "                                                     [key], {});\n",
              "          if (!dataTable) return;\n",
              "\n",
              "          const docLinkHtml = 'Like what you see? Visit the ' +\n",
              "            '<a target=\"_blank\" href=https://colab.research.google.com/notebooks/data_table.ipynb>data table notebook</a>'\n",
              "            + ' to learn more about interactive tables.';\n",
              "          element.innerHTML = '';\n",
              "          dataTable['output_type'] = 'display_data';\n",
              "          await google.colab.output.renderOutput(dataTable, element);\n",
              "          const docLink = document.createElement('div');\n",
              "          docLink.innerHTML = docLinkHtml;\n",
              "          element.appendChild(docLink);\n",
              "        }\n",
              "      </script>\n",
              "    </div>\n",
              "  </div>\n",
              "  "
            ]
          },
          "metadata": {},
          "execution_count": 107
        }
      ]
    },
    {
      "cell_type": "code",
      "source": [
        "#pop elimina la columna completa \"df.pop\"\n",
        "#drop elimina filas\n",
        "print(df.dropna())"
      ],
      "metadata": {
        "colab": {
          "base_uri": "https://localhost:8080/"
        },
        "id": "S1UW2mghxwSp",
        "outputId": "29035c04-b228-42a0-98cd-fe5d63da5727"
      },
      "execution_count": null,
      "outputs": [
        {
          "output_type": "stream",
          "name": "stdout",
          "text": [
            "                         nombre  edad sexo  peso  altura  colesterol diabetes\n",
            "0  José Luis Martínez Izquierdo    18    H  85.0    1.79       182.0    False\n",
            "1                Rosa Díaz Díaz    32    M  65.0    1.73       232.0    False\n",
            "3           Carmen López Pinzón    35    M  65.0    1.70       200.0    False\n",
            "4          Marisa López Collado    46    M  51.0    1.58       148.0     True\n"
          ]
        }
      ]
    },
    {
      "cell_type": "code",
      "source": [
        "print(df.groupby('sexo').groups)"
      ],
      "metadata": {
        "colab": {
          "base_uri": "https://localhost:8080/"
        },
        "id": "Ll5GPgg2ydXV",
        "outputId": "e6496594-d565-46ec-d4e5-4d351690b9a2"
      },
      "execution_count": null,
      "outputs": [
        {
          "output_type": "stream",
          "name": "stdout",
          "text": [
            "{'H': [0, 2, 5, 6, 8, 9, 11, 12], 'M': [1, 3, 4, 7, 10, 13]}\n"
          ]
        }
      ]
    },
    {
      "cell_type": "code",
      "source": [
        "print(df.groupby(['sexo', 'edad']).groups)"
      ],
      "metadata": {
        "colab": {
          "base_uri": "https://localhost:8080/"
        },
        "id": "7kef7b0kysq7",
        "outputId": "26fa8703-ca35-44b4-90fe-419b2ee8c169"
      },
      "execution_count": null,
      "outputs": [
        {
          "output_type": "stream",
          "name": "stdout",
          "text": [
            "{('H', 18): [0], ('H', 24): [2], ('H', 27): [12], ('H', 35): [8], ('H', 46): [9], ('H', 51): [6], ('H', 58): [11], ('H', 68): [5], ('M', 20): [13], ('M', 22): [7], ('M', 32): [1], ('M', 35): [3], ('M', 46): [4], ('M', 53): [10]}\n"
          ]
        }
      ]
    },
    {
      "cell_type": "code",
      "source": [
        "#Hola, es una prueba. Aparecerá en Colab?"
      ],
      "metadata": {
        "id": "fESEKM6oyzYS"
      },
      "execution_count": null,
      "outputs": []
    }
  ]
}