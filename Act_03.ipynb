{
  "nbformat": 4,
  "nbformat_minor": 0,
  "metadata": {
    "colab": {
      "provenance": [],
      "toc_visible": true,
      "authorship_tag": "ABX9TyMKLEbbI+sFBkA7h4niGduW",
      "include_colab_link": true
    },
    "kernelspec": {
      "name": "python3",
      "display_name": "Python 3"
    },
    "language_info": {
      "name": "python"
    }
  },
  "cells": [
    {
      "cell_type": "markdown",
      "metadata": {
        "id": "view-in-github",
        "colab_type": "text"
      },
      "source": [
        "<a href=\"https://colab.research.google.com/github/SaraElizabethGarciaCajero/Colab/blob/main/Act_03.ipynb\" target=\"_parent\"><img src=\"https://colab.research.google.com/assets/colab-badge.svg\" alt=\"Open In Colab\"/></a>"
      ]
    },
    {
      "cell_type": "markdown",
      "source": [
        "Nombre: Sara Elizabeth García Cajero\n",
        "\n",
        "ID: 223299-1\n",
        "\n",
        "Nombre del Profesor: Lázaro Bustio Martínez\n",
        "\n",
        "Descripción: \n"
      ],
      "metadata": {
        "id": "O4K8KgwOuOUd"
      }
    },
    {
      "cell_type": "code",
      "source": [
        "n = int(input(\"Dame el número de números para calificaciones para calcular el promedio: \"))\n",
        "calificaciones = []\n",
        "\n",
        "for i in range(n):\n",
        "    calificacion = float(input(f'Dame la calificación {i+1} = '))\n",
        "    calificaciones.append(calificacion)\n",
        "\n",
        "promedio = sum(calificaciones) / len(calificaciones)\n",
        "print (f'El promedio es: {promedio}')"
      ],
      "metadata": {
        "colab": {
          "base_uri": "https://localhost:8080/",
          "height": 321
        },
        "id": "eTxHP5yovlZo",
        "outputId": "dcfde544-8053-4ca3-c62c-e5c52fac1402"
      },
      "execution_count": null,
      "outputs": [
        {
          "name": "stdout",
          "output_type": "stream",
          "text": [
            "Dame el número de números para calificaciones para calcular el promedio: 5\n",
            "Dame la calificación 1 = 9\n",
            "Dame la calificación 2 = 5\n",
            "Dame la calificación 3 = 1.2\n",
            "Dame la calificación 4 = 3.2\n",
            "Dame la calificación 5 = 5\n"
          ]
        },
        {
          "output_type": "error",
          "ename": "TypeError",
          "evalue": "ignored",
          "traceback": [
            "\u001b[0;31m---------------------------------------------------------------------------\u001b[0m",
            "\u001b[0;31mTypeError\u001b[0m                                 Traceback (most recent call last)",
            "\u001b[0;32m<ipython-input-12-257bf27be4a6>\u001b[0m in \u001b[0;36m<module>\u001b[0;34m\u001b[0m\n\u001b[1;32m      6\u001b[0m     \u001b[0mcalificaciones\u001b[0m\u001b[0;34m.\u001b[0m\u001b[0mappend\u001b[0m\u001b[0;34m(\u001b[0m\u001b[0mcalificacion\u001b[0m\u001b[0;34m)\u001b[0m\u001b[0;34m\u001b[0m\u001b[0;34m\u001b[0m\u001b[0m\n\u001b[1;32m      7\u001b[0m \u001b[0;34m\u001b[0m\u001b[0m\n\u001b[0;32m----> 8\u001b[0;31m \u001b[0mpromedio\u001b[0m \u001b[0;34m=\u001b[0m \u001b[0msum\u001b[0m\u001b[0;34m(\u001b[0m\u001b[0mcalificaciones\u001b[0m\u001b[0;34m)\u001b[0m \u001b[0;34m/\u001b[0m \u001b[0mlen\u001b[0m\u001b[0;34m(\u001b[0m\u001b[0mcalificaciones\u001b[0m\u001b[0;34m)\u001b[0m\u001b[0;34m\u001b[0m\u001b[0;34m\u001b[0m\u001b[0m\n\u001b[0m\u001b[1;32m      9\u001b[0m \u001b[0mprint\u001b[0m \u001b[0;34m(\u001b[0m\u001b[0;34mf'El promedio es: {promedio}'\u001b[0m\u001b[0;34m)\u001b[0m\u001b[0;34m\u001b[0m\u001b[0;34m\u001b[0m\u001b[0m\n",
            "\u001b[0;31mTypeError\u001b[0m: 'float' object is not callable"
          ]
        }
      ]
    },
    {
      "cell_type": "code",
      "source": [
        "n=0\n",
        "i=0\n",
        "sum=0\n",
        "prom=0\n",
        "\n",
        "n = int(input(\"Dame la cantidad de números que quieras promediar: \"))\n",
        "calificaciones = []\n",
        "\n",
        "for i in range(n):\n",
        "    num=float(input('Dame el número '+ str(i+1) + ': '))\n",
        "    sum=sum+num\n",
        "prom=sum/n\n",
        "print ('El promedio es: ' +str(prom))"
      ],
      "metadata": {
        "id": "WxBltQTcvsZ6",
        "colab": {
          "base_uri": "https://localhost:8080/"
        },
        "outputId": "e9822d29-a186-449d-dee1-949b6f2a19cb"
      },
      "execution_count": null,
      "outputs": [
        {
          "output_type": "stream",
          "name": "stdout",
          "text": [
            "Dame la cantidad de números que quieras promediar: 5\n",
            "Dame el número 1: 9.6\n",
            "Dame el número 2: 5\n",
            "Dame el número 3: 8.9\n",
            "Dame el número 4: 10\n",
            "Dame el número 5: 7\n",
            "El promedio es: 8.1\n"
          ]
        }
      ]
    },
    {
      "cell_type": "code",
      "source": [],
      "metadata": {
        "id": "KzEgTJl-pVou"
      },
      "execution_count": null,
      "outputs": []
    }
  ]
}